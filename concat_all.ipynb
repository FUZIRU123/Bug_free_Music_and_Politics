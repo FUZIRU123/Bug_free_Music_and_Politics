{
 "cells": [
  {
   "cell_type": "code",
   "execution_count": 1,
   "metadata": {},
   "outputs": [],
   "source": [
    "import pandas as pd"
   ]
  },
  {
   "cell_type": "code",
   "execution_count": 4,
   "metadata": {},
   "outputs": [],
   "source": [
    "df1 = pd.read_csv('../data/singers_media/Lady_Gaga_MSNBC_common_users.csv')\n",
    "df2 = pd.read_csv('../data/singers_media/Lady_Gaga_huffpost_common_users.csv')\n",
    "df3 = pd.read_csv('../data/singers_media/Lady_Gaga_fox_news_common_users.csv')\n",
    "df4 = pd.read_csv('../data/singers_media/Lady_Gaga_the_daily_wire_common_users.csv')\n",
    "\n",
    "df5 = pd.read_csv('../data/singers_media/Beyonce_MSNBC_common_users.csv')\n",
    "df6 = pd.read_csv('../data/singers_media/Beyonce_huffpost_common_users.csv')\n",
    "df7 = pd.read_csv('../data/singers_media/Beyonce_fox_news_common_users.csv')\n",
    "df8 = pd.read_csv('../data/singers_media/Beyonce_the_daily_wire_common_users.csv')\n",
    "\n",
    "df9 = pd.read_csv('../data/singers_media/Billie_Ellish_MSNBC_common_users.csv')\n",
    "df10 = pd.read_csv('../data/singers_media/Billie_Ellish_huffpost_common_users.csv')\n",
    "df11 = pd.read_csv('../data/singers_media/Billie_Ellish_fox_news_common_users.csv')\n",
    "df12 = pd.read_csv('../data/singers_media/Billie_Ellish_the_daily_wire_common_users.csv')\n",
    "\n",
    "df13 = pd.read_csv('../data/singers_media/Tylor_Swift_MSNBC_common_users.csv')\n",
    "df14 = pd.read_csv('../data/singers_media/Tylor_Swift_huffpost_common_users.csv')\n",
    "df15 = pd.read_csv('../data/singers_media/Tylor_Swift_fox_news_common_users.csv')\n",
    "df16 = pd.read_csv('../data/singers_media/Tylor_Swift_the_daily_wire_common_users.csv')\n",
    "\n",
    "df17 = pd.read_csv('../data/singers_media/Katy_Perry_MSNBC_common_users.csv')\n",
    "df18 = pd.read_csv('../data/singers_media/Katy_Perry_huffpost_common_users.csv')\n",
    "df19 = pd.read_csv('../data/singers_media/Katy_Perry_fox_news_common_users.csv')\n",
    "df20 = pd.read_csv('../data/singers_media/Katy_Perry_the_daily_wire_common_users.csv')\n",
    "\n",
    "df21 = pd.read_csv('../data/singers_media/newsmax-biden.csv')\n",
    "df22 = pd.read_csv('../data/singers_media/newsmax-trump.csv')\n",
    "\n",
    "df23 = pd.read_csv('../data/singers_media/TYT-biden.csv')\n",
    "df24 = pd.read_csv('../data/singers_media/TYT-trump.csv')\n",
    "\n",
    "\n",
    "\n"
   ]
  },
  {
   "cell_type": "code",
   "execution_count": 5,
   "metadata": {},
   "outputs": [],
   "source": [
    "df25 = pd.concat([df1,df2,df3,df4,df5,df6,df7,df8,df9,df10,df11,df12,df13,df14,df15,df16,df17,df18,df19,df20], axis = 0, ignore_index = True)"
   ]
  },
  {
   "cell_type": "code",
   "execution_count": 7,
   "metadata": {},
   "outputs": [
    {
     "data": {
      "text/html": [
       "<div>\n",
       "<style scoped>\n",
       "    .dataframe tbody tr th:only-of-type {\n",
       "        vertical-align: middle;\n",
       "    }\n",
       "\n",
       "    .dataframe tbody tr th {\n",
       "        vertical-align: top;\n",
       "    }\n",
       "\n",
       "    .dataframe thead th {\n",
       "        text-align: right;\n",
       "    }\n",
       "</style>\n",
       "<table border=\"1\" class=\"dataframe\">\n",
       "  <thead>\n",
       "    <tr style=\"text-align: right;\">\n",
       "      <th></th>\n",
       "      <th>Target</th>\n",
       "      <th>Source</th>\n",
       "    </tr>\n",
       "  </thead>\n",
       "  <tbody>\n",
       "    <tr>\n",
       "      <th>0</th>\n",
       "      <td>Lady_Gaga</td>\n",
       "      <td>MSNBC</td>\n",
       "    </tr>\n",
       "    <tr>\n",
       "      <th>1</th>\n",
       "      <td>Lady_Gaga</td>\n",
       "      <td>MSNBC</td>\n",
       "    </tr>\n",
       "    <tr>\n",
       "      <th>2</th>\n",
       "      <td>Lady_Gaga</td>\n",
       "      <td>MSNBC</td>\n",
       "    </tr>\n",
       "    <tr>\n",
       "      <th>3</th>\n",
       "      <td>Lady_Gaga</td>\n",
       "      <td>MSNBC</td>\n",
       "    </tr>\n",
       "    <tr>\n",
       "      <th>4</th>\n",
       "      <td>Lady_Gaga</td>\n",
       "      <td>MSNBC</td>\n",
       "    </tr>\n",
       "    <tr>\n",
       "      <th>...</th>\n",
       "      <td>...</td>\n",
       "      <td>...</td>\n",
       "    </tr>\n",
       "    <tr>\n",
       "      <th>3354</th>\n",
       "      <td>Katy_Perry</td>\n",
       "      <td>the_daily_wire</td>\n",
       "    </tr>\n",
       "    <tr>\n",
       "      <th>3355</th>\n",
       "      <td>Katy_Perry</td>\n",
       "      <td>the_daily_wire</td>\n",
       "    </tr>\n",
       "    <tr>\n",
       "      <th>3356</th>\n",
       "      <td>Katy_Perry</td>\n",
       "      <td>the_daily_wire</td>\n",
       "    </tr>\n",
       "    <tr>\n",
       "      <th>3357</th>\n",
       "      <td>Katy_Perry</td>\n",
       "      <td>the_daily_wire</td>\n",
       "    </tr>\n",
       "    <tr>\n",
       "      <th>3358</th>\n",
       "      <td>Katy_Perry</td>\n",
       "      <td>the_daily_wire</td>\n",
       "    </tr>\n",
       "  </tbody>\n",
       "</table>\n",
       "<p>3359 rows × 2 columns</p>\n",
       "</div>"
      ],
      "text/plain": [
       "          Target          Source\n",
       "0      Lady_Gaga           MSNBC\n",
       "1      Lady_Gaga           MSNBC\n",
       "2      Lady_Gaga           MSNBC\n",
       "3      Lady_Gaga           MSNBC\n",
       "4      Lady_Gaga           MSNBC\n",
       "...          ...             ...\n",
       "3354  Katy_Perry  the_daily_wire\n",
       "3355  Katy_Perry  the_daily_wire\n",
       "3356  Katy_Perry  the_daily_wire\n",
       "3357  Katy_Perry  the_daily_wire\n",
       "3358  Katy_Perry  the_daily_wire\n",
       "\n",
       "[3359 rows x 2 columns]"
      ]
     },
     "execution_count": 7,
     "metadata": {},
     "output_type": "execute_result"
    }
   ],
   "source": [
    "df25 = df25.drop(['Unnamed: 0'], axis = 1)\n",
    "df25"
   ]
  },
  {
   "cell_type": "code",
   "execution_count": 8,
   "metadata": {},
   "outputs": [],
   "source": [
    "df26 = pd.concat([df21,df22,df23,df24,df25], axis = 0, ignore_index = True)"
   ]
  },
  {
   "cell_type": "code",
   "execution_count": 9,
   "metadata": {},
   "outputs": [
    {
     "data": {
      "text/html": [
       "<div>\n",
       "<style scoped>\n",
       "    .dataframe tbody tr th:only-of-type {\n",
       "        vertical-align: middle;\n",
       "    }\n",
       "\n",
       "    .dataframe tbody tr th {\n",
       "        vertical-align: top;\n",
       "    }\n",
       "\n",
       "    .dataframe thead th {\n",
       "        text-align: right;\n",
       "    }\n",
       "</style>\n",
       "<table border=\"1\" class=\"dataframe\">\n",
       "  <thead>\n",
       "    <tr style=\"text-align: right;\">\n",
       "      <th></th>\n",
       "      <th>Target</th>\n",
       "      <th>Source</th>\n",
       "    </tr>\n",
       "  </thead>\n",
       "  <tbody>\n",
       "    <tr>\n",
       "      <th>0</th>\n",
       "      <td>Alice_Cooper</td>\n",
       "      <td>Newsmax</td>\n",
       "    </tr>\n",
       "    <tr>\n",
       "      <th>1</th>\n",
       "      <td>Alice_Cooper</td>\n",
       "      <td>Newsmax</td>\n",
       "    </tr>\n",
       "    <tr>\n",
       "      <th>2</th>\n",
       "      <td>Alice_Cooper</td>\n",
       "      <td>Newsmax</td>\n",
       "    </tr>\n",
       "    <tr>\n",
       "      <th>3</th>\n",
       "      <td>Alice_Cooper</td>\n",
       "      <td>Newsmax</td>\n",
       "    </tr>\n",
       "    <tr>\n",
       "      <th>4</th>\n",
       "      <td>Alice_Cooper</td>\n",
       "      <td>Newsmax</td>\n",
       "    </tr>\n",
       "    <tr>\n",
       "      <th>...</th>\n",
       "      <td>...</td>\n",
       "      <td>...</td>\n",
       "    </tr>\n",
       "    <tr>\n",
       "      <th>4617</th>\n",
       "      <td>Katy_Perry</td>\n",
       "      <td>the_daily_wire</td>\n",
       "    </tr>\n",
       "    <tr>\n",
       "      <th>4618</th>\n",
       "      <td>Katy_Perry</td>\n",
       "      <td>the_daily_wire</td>\n",
       "    </tr>\n",
       "    <tr>\n",
       "      <th>4619</th>\n",
       "      <td>Katy_Perry</td>\n",
       "      <td>the_daily_wire</td>\n",
       "    </tr>\n",
       "    <tr>\n",
       "      <th>4620</th>\n",
       "      <td>Katy_Perry</td>\n",
       "      <td>the_daily_wire</td>\n",
       "    </tr>\n",
       "    <tr>\n",
       "      <th>4621</th>\n",
       "      <td>Katy_Perry</td>\n",
       "      <td>the_daily_wire</td>\n",
       "    </tr>\n",
       "  </tbody>\n",
       "</table>\n",
       "<p>4622 rows × 2 columns</p>\n",
       "</div>"
      ],
      "text/plain": [
       "            Target          Source\n",
       "0     Alice_Cooper         Newsmax\n",
       "1     Alice_Cooper         Newsmax\n",
       "2     Alice_Cooper         Newsmax\n",
       "3     Alice_Cooper         Newsmax\n",
       "4     Alice_Cooper         Newsmax\n",
       "...            ...             ...\n",
       "4617    Katy_Perry  the_daily_wire\n",
       "4618    Katy_Perry  the_daily_wire\n",
       "4619    Katy_Perry  the_daily_wire\n",
       "4620    Katy_Perry  the_daily_wire\n",
       "4621    Katy_Perry  the_daily_wire\n",
       "\n",
       "[4622 rows x 2 columns]"
      ]
     },
     "execution_count": 9,
     "metadata": {},
     "output_type": "execute_result"
    }
   ],
   "source": [
    "df26"
   ]
  },
  {
   "cell_type": "code",
   "execution_count": 11,
   "metadata": {},
   "outputs": [],
   "source": [
    "df26.to_csv('../data/singers_media/concat1.csv')"
   ]
  },
  {
   "cell_type": "markdown",
   "metadata": {},
   "source": [
    "# 第二次合并"
   ]
  },
  {
   "cell_type": "code",
   "execution_count": 12,
   "metadata": {},
   "outputs": [],
   "source": [
    "df27 = pd.read_csv('../data/singers_media/concat1.csv')"
   ]
  },
  {
   "cell_type": "code",
   "execution_count": 15,
   "metadata": {},
   "outputs": [],
   "source": [
    "df28 = pd.read_csv('../data/singers_media/Alice_Cooper_Fox_News_common_users.csv')\n",
    "df29 = pd.read_csv('../data/singers_media/Alice_Cooper_MSNBC_common_users.csv')\n",
    "df30 = pd.read_csv('../data/singers_media/Alice_Cooper_Huffpost_common_users.csv')\n",
    "df31 = pd.read_csv('../data/singers_media/Alice_Cooper_the_daily_wire_common_users.csv')\n",
    "\n",
    "df32 = pd.read_csv('../data/singers_media/Ted_Nugent_Fox_News_common_users.csv')\n",
    "df33 = pd.read_csv('../data/singers_media/Ted_Nugent_MSNBC_common_users.csv')\n",
    "df34 = pd.read_csv('../data/singers_media/Ted_Nugent_Huffpost_common_users.csv')\n",
    "df35 = pd.read_csv('../data/singers_media/Ted_Nugent_the_daily_wire_common_users.csv')\n",
    "\n",
    "df36 = pd.read_csv('../data/singers_media/Jessica_Simpson_Fox_News_common_users.csv')\n",
    "df37 = pd.read_csv('../data/singers_media/Jessica_Simpson_MSNBC_common_users.csv')\n",
    "df38 = pd.read_csv('../data/singers_media/Jessica_Simpson_Huffpost_common_users.csv')\n",
    "df39 = pd.read_csv('../data/singers_media/Jessica_Simpson_the_daily_wire_common_users.csv')\n",
    "\n",
    "df40 = pd.read_csv('../data/singers_media/Kid_rock_Fox_News_common_users.csv')\n",
    "df41 = pd.read_csv('../data/singers_media/Kid_rock_MSNBC_common_users.csv')\n",
    "df42 = pd.read_csv('../data/singers_media/Kid_rock_Huffpost_common_users.csv')\n",
    "df43 = pd.read_csv('../data/singers_media/Kid_rock_the_daily_wire_common_users.csv')\n",
    "\n",
    "df44 = pd.read_csv('../data/singers_media/10singer_cbs.csv')\n",
    "df45 = pd.read_csv('../data/singers_media/10singer_cnn.csv')\n",
    "df46 = pd.read_csv('../data/singers_media/10singer_nyp.csv')\n",
    "df47 = pd.read_csv('../data/singers_media/10singer_yahoo.csv')"
   ]
  },
  {
   "cell_type": "code",
   "execution_count": 16,
   "metadata": {},
   "outputs": [],
   "source": [
    "df48 = pd.concat([df44,df45,df46,df47], axis = 0, ignore_index = True)"
   ]
  },
  {
   "cell_type": "code",
   "execution_count": 18,
   "metadata": {},
   "outputs": [],
   "source": [
    "df48 = df48.drop(['Unnamed: 0', 'Common_User_channel_id'], axis = 1)"
   ]
  },
  {
   "cell_type": "code",
   "execution_count": 20,
   "metadata": {},
   "outputs": [],
   "source": [
    "df49 = pd.concat([df28,df29,df30,df31,df32,df33,df34,df35,df36,df37,df38,df39,df40,df41,df42,df43], axis = 0, ignore_index = True)"
   ]
  },
  {
   "cell_type": "code",
   "execution_count": 22,
   "metadata": {},
   "outputs": [],
   "source": [
    "df49 = df49.drop(['Unnamed: 0'], axis = 1)"
   ]
  },
  {
   "cell_type": "code",
   "execution_count": 23,
   "metadata": {},
   "outputs": [],
   "source": [
    "df50 = pd.concat([df27,df48,df49], axis = 0, ignore_index = True)"
   ]
  },
  {
   "cell_type": "code",
   "execution_count": 25,
   "metadata": {},
   "outputs": [],
   "source": [
    "df50.to_csv('../data/singers_media/concat2.csv')"
   ]
  },
  {
   "cell_type": "markdown",
   "metadata": {},
   "source": [
    "# kanye west forgotten"
   ]
  },
  {
   "cell_type": "code",
   "execution_count": 26,
   "metadata": {},
   "outputs": [],
   "source": [
    "df51 = pd.read_csv('../data/singers_media/Kanye_West_Fox_News_common_users.csv')\n",
    "df52 = pd.read_csv('../data/singers_media/Kanye_West_MSNBC_common_users.csv')\n",
    "df53 = pd.read_csv('../data/singers_media/Kanye_West_Huffpost_common_users.csv')\n",
    "df54 = pd.read_csv('../data/singers_media/Kanye_West_the_daily_wire_common_users.csv')"
   ]
  },
  {
   "cell_type": "code",
   "execution_count": 27,
   "metadata": {},
   "outputs": [],
   "source": [
    "df55 = pd.read_csv('../data/singers_media/concat2.csv')"
   ]
  },
  {
   "cell_type": "code",
   "execution_count": 28,
   "metadata": {},
   "outputs": [],
   "source": [
    "df56 = pd.concat([df51,df52,df53,df54], axis = 0, ignore_index = True)\n",
    "df56 = df56.drop(['Unnamed: 0'], axis = 1)"
   ]
  },
  {
   "cell_type": "code",
   "execution_count": 29,
   "metadata": {},
   "outputs": [],
   "source": [
    "df57 = pd.concat([df55,df56], axis = 0, ignore_index = True)"
   ]
  },
  {
   "cell_type": "code",
   "execution_count": 30,
   "metadata": {},
   "outputs": [],
   "source": [
    "df57.to_csv('../data/singers_media/concat2.csv')"
   ]
  },
  {
   "cell_type": "code",
   "execution_count": 31,
   "metadata": {},
   "outputs": [
    {
     "data": {
      "text/plain": [
       "array(['Newsmax', 'TYT', 'MSNBC', 'Huffpost', 'Fox_News',\n",
       "       'the_daily_wire', 'CBS', 'CNN', 'NYP', 'YAHOO'], dtype=object)"
      ]
     },
     "execution_count": 31,
     "metadata": {},
     "output_type": "execute_result"
    }
   ],
   "source": [
    "df57['Source'].unique()"
   ]
  },
  {
   "cell_type": "code",
   "execution_count": 32,
   "metadata": {},
   "outputs": [
    {
     "data": {
      "text/plain": [
       "array(['Alice_Cooper', 'Beyonce', 'Billie_Ellish', 'Kanye_West',\n",
       "       'Katy_Perry', 'Ted_Nugent', 'Kid_rock', 'Lady_Gaga', 'Tylor_Swift',\n",
       "       'Jessica_Simpson'], dtype=object)"
      ]
     },
     "execution_count": 32,
     "metadata": {},
     "output_type": "execute_result"
    }
   ],
   "source": [
    "df57['Target'].unique()"
   ]
  },
  {
   "cell_type": "code",
   "execution_count": null,
   "metadata": {},
   "outputs": [],
   "source": []
  }
 ],
 "metadata": {
  "kernelspec": {
   "display_name": "Python 3",
   "language": "python",
   "name": "python3"
  },
  "language_info": {
   "codemirror_mode": {
    "name": "ipython",
    "version": 3
   },
   "file_extension": ".py",
   "mimetype": "text/x-python",
   "name": "python",
   "nbconvert_exporter": "python",
   "pygments_lexer": "ipython3",
   "version": "3.8.3"
  }
 },
 "nbformat": 4,
 "nbformat_minor": 4
}
